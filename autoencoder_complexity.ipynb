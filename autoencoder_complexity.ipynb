{
  "nbformat": 4,
  "nbformat_minor": 0,
  "metadata": {
    "colab": {
      "name": "autoencoder_complexity.ipynb",
      "provenance": []
    },
    "kernelspec": {
      "name": "python3",
      "display_name": "Python 3"
    }
  },
  "cells": [
    {
      "cell_type": "code",
      "metadata": {
        "id": "_XGD01i-noV_",
        "colab_type": "code",
        "colab": {}
      },
      "source": [
        "import numpy as np\n",
        "import matplotlib.pyplot as plt\n",
        "import sklearn.datasets\n",
        "import sklearn.preprocessing\n",
        "import torch\n",
        "import torchvision\n",
        "import torchvision.datasets\n",
        "import torchvision.models\n",
        "import torchvision.transforms"
      ],
      "execution_count": 0,
      "outputs": []
    },
    {
      "cell_type": "code",
      "metadata": {
        "id": "I484R5jls2ZU",
        "colab_type": "code",
        "colab": {
          "base_uri": "https://localhost:8080/",
          "height": 35
        },
        "outputId": "080c246e-336c-47ef-be76-dc0536bca286"
      },
      "source": [
        "numeros = sklearn.datasets.load_digits()\n",
        "imagenes = numeros['images']  # Hay 1797 digitos representados en imagenes 8x8\n",
        "n_imagenes = len(imagenes)\n",
        "X = imagenes.copy()\n",
        "Y = numeros['target']\n",
        "print(np.shape(X))"
      ],
      "execution_count": 2,
      "outputs": [
        {
          "output_type": "stream",
          "text": [
            "(1797, 8, 8)\n"
          ],
          "name": "stdout"
        }
      ]
    },
    {
      "cell_type": "code",
      "metadata": {
        "id": "X8rjC2vGs-sg",
        "colab_type": "code",
        "colab": {
          "base_uri": "https://localhost:8080/",
          "height": 35
        },
        "outputId": "93fa18ec-88b9-4d0c-c2a2-df668d66b4df"
      },
      "source": [
        "inputs = torch.autograd.Variable(torch.Tensor(X).float()).unsqueeze(1)\n",
        "print(inputs.size())"
      ],
      "execution_count": 3,
      "outputs": [
        {
          "output_type": "stream",
          "text": [
            "torch.Size([1797, 1, 8, 8])\n"
          ],
          "name": "stdout"
        }
      ]
    },
    {
      "cell_type": "code",
      "metadata": {
        "id": "MOj_AD94tDmC",
        "colab_type": "code",
        "colab": {
          "base_uri": "https://localhost:8080/",
          "height": 199
        },
        "outputId": "279f5cfd-dd71-4d20-e024-f8e63aee1713"
      },
      "source": [
        "# muestra algunos ejemplos\n",
        "\n",
        "n_items = inputs.data.size()[0]\n",
        "random_items = np.random.choice(np.arange(n_items), 5)\n",
        "\n",
        "plt.figure(figsize=(14,5))\n",
        "for i in range(5):\n",
        "    plt.subplot(1,5,i+1)\n",
        "    item  = random_items[i]\n",
        "    plt.imshow(inputs[item][0].detach().numpy())\n",
        "    plt.title(Y[item])"
      ],
      "execution_count": 4,
      "outputs": [
        {
          "output_type": "display_data",
          "data": {
            "image/png": "[encoded data removed]",
            "text/plain": [
              "<Figure size 1008x360 with 5 Axes>"
            ]
          },
          "metadata": {
            "tags": [],
            "needs_background": "light"
          }
        }
      ]
    },
    {
      "cell_type": "code",
      "metadata": {
        "id": "Gn8b7Ag2tIry",
        "colab_type": "code",
        "colab": {
          "base_uri": "https://localhost:8080/",
          "height": 35
        },
        "outputId": "83601a75-203f-4ef6-d496-6be68b9c9438"
      },
      "source": [
        "# normaliza\n",
        "mean = inputs.mean(dim=0)\n",
        "std = inputs.std(dim=0)\n",
        "std[std==0]=1.0\n",
        "\n",
        "for i in range(len(inputs)):\n",
        "    inputs[i] = (inputs[i])/std\n",
        "np.shape(inputs)"
      ],
      "execution_count": 5,
      "outputs": [
        {
          "output_type": "execute_result",
          "data": {
            "text/plain": [
              "torch.Size([1797, 1, 8, 8])"
            ]
          },
          "metadata": {
            "tags": []
          },
          "execution_count": 5
        }
      ]
    },
    {
      "cell_type": "code",
      "metadata": {
        "id": "LN8-pzEA8wSN",
        "colab_type": "code",
        "colab": {}
      },
      "source": [
        "class Autoencoder0(torch.nn.Module):\n",
        "    def __init__(self):\n",
        "        super(Autoencoder,self).__init__()\n",
        "        self.encoder = torch.nn.Sequential(\n",
        "            torch.nn.Conv2d(1, 8, kernel_size=3),\n",
        "            torch.nn.Conv2d(8,2,kernel_size=3))\n",
        "        self.decoder = torch.nn.Sequential(\n",
        "            torch.nn.ConvTranspose2d(2,8,kernel_size=3),\n",
        "            torch.nn.ConvTranspose2d(8,1,kernel_size=3))\n",
        "    def forward(self,x):\n",
        "        x = self.encoder(x)\n",
        "        x = self.decoder(x)\n",
        "        return x\n",
        "            \n",
        "class Autoencoder1(torch.nn.Module):\n",
        "    def __init__(self):\n",
        "        super(Autoencoder,self).__init__()\n",
        "        self.encoder = torch.nn.Sequential(\n",
        "            torch.nn.Conv2d(1, 16, kernel_size=3),\n",
        "            torch.nn.Conv2d(16,4,kernel_size=3))\n",
        "        self.decoder = torch.nn.Sequential(\n",
        "            torch.nn.ConvTranspose2d(4,16,kernel_size=3),\n",
        "            torch.nn.ConvTranspose2d(16,1,kernel_size=3))\n",
        "    def forward(self,x):\n",
        "        x = self.encoder(x)\n",
        "        x = self.decoder(x)\n",
        "        return x\n",
        "\n",
        "class Autoencoder2(torch.nn.Module):\n",
        "    def __init__(self):\n",
        "        super(Autoencoder,self).__init__()\n",
        "        self.encoder = torch.nn.Sequential(\n",
        "            torch.nn.Conv2d(1, 12, kernel_size=3),\n",
        "            torch.nn.Conv2d(12,4,kernel_size=3))\n",
        "        self.decoder = torch.nn.Sequential(\n",
        "            torch.nn.ConvTranspose2d(4,12,kernel_size=3),\n",
        "            torch.nn.ConvTranspose2d(12,1,kernel_size=3))\n",
        "    def forward(self,x):\n",
        "        x = self.encoder(x)\n",
        "        x = self.decoder(x)\n",
        "        return x\n",
        "\n",
        "class Autoencoder3(torch.nn.Module):\n",
        "    def __init__(self):\n",
        "        super(Autoencoder,self).__init__()\n",
        "        self.encoder = torch.nn.Sequential(\n",
        "            torch.nn.Conv2d(1, 12, kernel_size=3),\n",
        "            torch.nn.Conv2d(12,6,kernel_size=3))\n",
        "        self.decoder = torch.nn.Sequential(\n",
        "            torch.nn.ConvTranspose2d(6,12,kernel_size=3),\n",
        "            torch.nn.ConvTranspose2d(12,1,kernel_size=3))\n",
        "    def forward(self,x):\n",
        "        x = self.encoder(x)\n",
        "        x = self.decoder(x)\n",
        "        return x\n",
        "\n",
        "class Autoencoder4(torch.nn.Module):\n",
        "    def __init__(self):\n",
        "        super(Autoencoder,self).__init__()\n",
        "        self.encoder = torch.nn.Sequential(\n",
        "            torch.nn.Conv2d(1, 12, kernel_size=3),\n",
        "            torch.nn.Conv2d(12,2,kernel_size=3))\n",
        "        self.decoder = torch.nn.Sequential(\n",
        "            torch.nn.ConvTranspose2d(2,12,kernel_size=3),\n",
        "            torch.nn.ConvTranspose2d(12,1,kernel_size=3))\n",
        "    def forward(self,x):\n",
        "        x = self.encoder(x)\n",
        "        x = self.decoder(x)\n",
        "        return x\n",
        "        \n",
        "class Autoencoder5(torch.nn.Module):\n",
        "    def __init__(self):\n",
        "        super(Autoencoder,self).__init__()\n",
        "        self.encoder = torch.nn.Sequential(\n",
        "            torch.nn.Conv2d(1, 16, kernel_size=3),\n",
        "            torch.nn.Conv2d(16,8,kernel_size=3),\n",
        "            torch.nn.Conv2d(8,4,kernel_size=3))\n",
        "        self.decoder = torch.nn.Sequential(\n",
        "            torch.nn.ConvTranspose2d(4,8,kernel_size=3),\n",
        "            torch.nn.ConvTranspose2d(8,16,kernel_size=3),\n",
        "            torch.nn.ConvTranspose2d(16,1,kernel_size=3))\n",
        "    def forward(self,x):\n",
        "        x = self.encoder(x)\n",
        "        x = self.decoder(x)\n",
        "        return x\n",
        "\n",
        "class Autoencoder6(torch.nn.Module):\n",
        "    def __init__(self):\n",
        "        super(Autoencoder,self).__init__()\n",
        "        self.encoder = torch.nn.Sequential(\n",
        "            torch.nn.Conv2d(1, 10, kernel_size=3),\n",
        "            torch.nn.Conv2d(10,8,kernel_size=3),\n",
        "            torch.nn.Conv2d(8,4,kernel_size=3))\n",
        "        self.decoder = torch.nn.Sequential(\n",
        "            torch.nn.ConvTranspose2d(4,8,kernel_size=3),\n",
        "            torch.nn.ConvTranspose2d(8,10,kernel_size=3),\n",
        "            torch.nn.ConvTranspose2d(10,1,kernel_size=3))\n",
        "    def forward(self,x):\n",
        "        x = self.encoder(x)\n",
        "        x = self.decoder(x)\n",
        "        return x\n",
        "\n",
        "class Autoencoder7(torch.nn.Module):\n",
        "    def __init__(self):\n",
        "        super(Autoencoder,self).__init__()\n",
        "        self.encoder = torch.nn.Sequential(\n",
        "            torch.nn.Conv2d(1, 12, kernel_size=3),\n",
        "            torch.nn.Conv2d(12,6,kernel_size=3),\n",
        "            torch.nn.Conv2d(6,4,kernel_size=3))\n",
        "        self.decoder = torch.nn.Sequential(\n",
        "            torch.nn.ConvTranspose2d(4,6,kernel_size=3),\n",
        "            torch.nn.ConvTranspose2d(6,12,kernel_size=3),\n",
        "            torch.nn.ConvTranspose2d(12,1,kernel_size=3))\n",
        "    def forward(self,x):\n",
        "        x = self.encoder(x)\n",
        "        x = self.decoder(x)\n",
        "        return x\n",
        "\n",
        "class Autoencoder8(torch.nn.Module):\n",
        "    def __init__(self):\n",
        "        super(Autoencoder,self).__init__()\n",
        "        self.encoder = torch.nn.Sequential(\n",
        "            torch.nn.Conv2d(1, 16, kernel_size=3),\n",
        "            torch.nn.Conv2d(16,8,kernel_size=3),\n",
        "            torch.nn.Conv2d(8,4,kernel_size=3),\n",
        "            torch.nn.Conv2d(4,2,kernel_size=2))\n",
        "        self.decoder = torch.nn.Sequential(\n",
        "            torch.nn.ConvTranspose2d(2,4,kernel_size=2),\n",
        "            torch.nn.ConvTranspose2d(4,8,kernel_size=3),\n",
        "            torch.nn.ConvTranspose2d(8,16,kernel_size=3),\n",
        "            torch.nn.ConvTranspose2d(16,1,kernel_size=3))\n",
        "    def forward(self,x):\n",
        "        x = self.encoder(x)\n",
        "        x = self.decoder(x)\n",
        "        return x\n",
        "\n",
        "class Autoencoder9(torch.nn.Module):\n",
        "    def __init__(self):\n",
        "        super(Autoencoder,self).__init__()\n",
        "        self.encoder = torch.nn.Sequential(\n",
        "            torch.nn.Conv2d(1, 10, kernel_size=3),\n",
        "            torch.nn.Conv2d(10,8,kernel_size=3),\n",
        "            torch.nn.Conv2d(8,6,kernel_size=3),\n",
        "            torch.nn.Conv2d(6,4,kernel_size=2))\n",
        "        self.decoder = torch.nn.Sequential(\n",
        "            torch.nn.ConvTranspose2d(4,6,kernel_size=2),\n",
        "            torch.nn.ConvTranspose2d(6,8,kernel_size=3),\n",
        "            torch.nn.ConvTranspose2d(8,10,kernel_size=3),\n",
        "            torch.nn.ConvTranspose2d(10,1,kernel_size=3))\n",
        "    def forward(self,x):\n",
        "        x = self.encoder(x)\n",
        "        x = self.decoder(x)\n",
        "        return x\n",
        "\n",
        "loss_model = []\n",
        "NC_model = []\n",
        "NL_model = []\n",
        "\n",
        "num_epochs = 100"
      ],
      "execution_count": 0,
      "outputs": []
    },
    {
      "cell_type": "code",
      "metadata": {
        "id": "dZGFfOCntNhX",
        "colab_type": "code",
        "colab": {
          "base_uri": "https://localhost:8080/",
          "height": 72
        },
        "outputId": "64450590-caf4-4c2d-a087-5102e60ac6e3"
      },
      "source": [
        "# inicializa modelo, loss y optimizador\n",
        "Autoencoder = Autoencoder9\n",
        "model = Autoencoder()\n",
        "distance = torch.nn.MSELoss()\n",
        "optimizer = torch.optim.Adam(model.parameters(), lr=0.005, weight_decay=1E-4)\n",
        "\n",
        "# entrenamiento\n",
        "for epoch in range(num_epochs):\n",
        "    output = model(inputs)\n",
        "    loss = distance(output, inputs)\n",
        "    optimizer.zero_grad()\n",
        "    loss.backward()\n",
        "    optimizer.step()\n",
        "loss_model.append( loss.item() )\n",
        "print('loss:{:.4f}'.format(loss.item()))\n",
        "\n",
        "# Dimensión del espacio latente\n",
        "x_transform = model(inputs)\n",
        "latent_space = model.encoder(inputs)\n",
        "n_l = latent_space.size()[2]\n",
        "NL_model.append( n_l )\n",
        "print( 'Dimensionalidad del espacio latente: ', n_l)\n",
        "\n",
        "# Número de parámetros\n",
        "n_p = 0\n",
        "for m in model.parameters():\n",
        "    n_p += m.flatten().size()[0]\n",
        "NC_model.append( n_p )\n",
        "print( 'Número de parámetros de la red convolucional', n_p)\n",
        " "
      ],
      "execution_count": 17,
      "outputs": [
        {
          "output_type": "stream",
          "text": [
            "loss:0.7343\n",
            "Dimensionalidad del espacio latente:  1\n",
            "Número de parámetros de la red convolucional 2729\n"
          ],
          "name": "stdout"
        }
      ]
    },
    {
      "cell_type": "code",
      "metadata": {
        "id": "4oebKz9k335H",
        "colab_type": "code",
        "colab": {
          "base_uri": "https://localhost:8080/",
          "height": 365
        },
        "outputId": "4ed11b7b-6b53-4dd7-beec-4a49668709ca"
      },
      "source": [
        "plt.figure(figsize=(15,5))\n",
        "plt.angulos = np.linspace(0,2*np.pi,100)\n",
        "\n",
        "plt.subplot(1,3,1)\n",
        "plt.scatter( NC_model, loss_model )\n",
        "plt.title('Loss vs Número de parámetros')\n",
        "plt.ylabel('Loss')\n",
        "plt.xlabel('NC')\n",
        "plt.grid()\n",
        "\n",
        "plt.subplot(1,3,2)\n",
        "plt.scatter( NL_model, loss_model )\n",
        "plt.title('Loss vs Dimensión del espacio latente')\n",
        "plt.ylabel('Loss')\n",
        "plt.xlabel('NL')\n",
        "plt.grid()\n",
        "\n",
        "plt.subplot(1,3,3)\n",
        "plt.scatter( NL_model, NC_model)\n",
        "plt.title('Dimensión del espacio latente\\nvs Número de parámetros')\n",
        "plt.xlabel('NL')\n",
        "plt.ylabel('NC')\n",
        "plt.grid()\n",
        "\n",
        "plt.show()"
      ],
      "execution_count": 27,
      "outputs": [
        {
          "output_type": "display_data",
          "data": {
            "image/png": "[encoded data removed]",
            "text/plain": [
              "<Figure size 1080x360 with 3 Axes>"
            ]
          },
          "metadata": {
            "tags": [],
            "needs_background": "light"
          }
        }
      ]
    },
    {
      "cell_type": "markdown",
      "metadata": {
        "id": "dZWtiAg8M_6y",
        "colab_type": "text"
      },
      "source": [
        "Las gráficas presentan la relación entre las diferentes cantidades que describen la red considerada. La función de perdida, Loss, evidencia un comportamiento en el que se minimiza cuando la dimensión del espacio latente es 4. Esta es dimensión mínima que debe tener el espacio latente para que se pueda extraer la información más relevante de los datos de entrada. Por otro lado, la gráfica del Loss vs el número de parámetros nos indica el número óptimo de parámetros para que no haya underfitting u overfitting."
      ]
    },
    {
      "cell_type": "code",
      "metadata": {
        "id": "do3TltKXNBeW",
        "colab_type": "code",
        "colab": {}
      },
      "source": [
        ""
      ],
      "execution_count": 0,
      "outputs": []
    }
  ]
}